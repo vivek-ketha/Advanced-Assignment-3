{
 "cells": [
  {
   "cell_type": "markdown",
   "id": "d554685e",
   "metadata": {},
   "source": [
    "# Assignmnet 3"
   ]
  },
  {
   "cell_type": "markdown",
   "id": "baedc851",
   "metadata": {},
   "source": [
    "1.A class is called an Abstract class if it contains one or more abstract methods. An abstract method is a method that is declared, but contains no implementation. Abstract classes may not be instantiated, and its abstract methods must be implemented by its subclasses.\n",
    "\n",
    "2.An assignment statement evaluates the expression list (remember that this can be a single expression or a comma-separated list, the latter yielding a tuple) and assigns the single resulting object to each of the target lists, from left to right.\n",
    "\n",
    "3.It's because one needs to define something that is NOT done in the base-class' __init__ , and the only possibility to obtain that is to put its execution in a derived-class' __init__ function.\n",
    "\n",
    "4.What we really want to do here is somehow augment the original giveRaise, instead of replacing it altogether. The good way to do that in Python is by calling to the original version directly, with augmented arguments\n",
    "\n",
    "5.declaring a variable inside a function inside a class : only that function can access it (its in that functions scope): comment: if the variable is declared without self then it is accessible within that function only, kinda local variable."
   ]
  }
 ],
 "metadata": {
  "kernelspec": {
   "display_name": "Python 3",
   "language": "python",
   "name": "python3"
  },
  "language_info": {
   "codemirror_mode": {
    "name": "ipython",
    "version": 3
   },
   "file_extension": ".py",
   "mimetype": "text/x-python",
   "name": "python",
   "nbconvert_exporter": "python",
   "pygments_lexer": "ipython3",
   "version": "3.8.8"
  }
 },
 "nbformat": 4,
 "nbformat_minor": 5
}
